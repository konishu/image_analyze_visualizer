{
 "cells": [
  {
   "cell_type": "code",
   "execution_count": 3,
   "metadata": {},
   "outputs": [],
   "source": [
    "from PIL import Image\n",
    "from PIL.ExifTags import TAGS"
   ]
  },
  {
   "cell_type": "code",
   "execution_count": 4,
   "metadata": {},
   "outputs": [
    {
     "ename": "SyntaxError",
     "evalue": "invalid syntax (<ipython-input-4-f049457cd752>, line 25)",
     "output_type": "error",
     "traceback": [
      "\u001b[0;36m  File \u001b[0;32m\"<ipython-input-4-f049457cd752>\"\u001b[0;36m, line \u001b[0;32m25\u001b[0m\n\u001b[0;31m    print get_exif_of_image(\"sample.jpg\")\u001b[0m\n\u001b[0m                          ^\u001b[0m\n\u001b[0;31mSyntaxError\u001b[0m\u001b[0;31m:\u001b[0m invalid syntax\n"
     ]
    }
   ],
   "source": [
    "def get_exif_of_image(file):\n",
    "    \"\"\"Get EXIF of an image if exists.\n",
    "\n",
    "    指定した画像のEXIFデータを取り出す関数\n",
    "    @return exif_table Exif データを格納した辞書\n",
    "    \"\"\"\n",
    "    im = Image.open(file)\n",
    "\n",
    "    # Exif データを取得\n",
    "    # 存在しなければそのまま終了 空の辞書を返す\n",
    "    try:\n",
    "        exif = im._getexif()\n",
    "    except AttributeError:\n",
    "        return {}\n",
    "\n",
    "    # タグIDそのままでは人が読めないのでデコードして\n",
    "    # テーブルに格納する\n",
    "    exif_table = {}\n",
    "    for tag_id, value in exif.items():\n",
    "        tag = TAGS.get(tag_id, tag_id)\n",
    "        exif_table[tag] = value\n",
    "\n",
    "    return exif_table\n",
    "\n",
    "print get_exif_of_image(\"sample.jpg\")\n",
    "# => Exif 情報を格納した辞書\n",
    "#    Exif 情報がない場合には空の辞書"
   ]
  },
  {
   "cell_type": "code",
   "execution_count": 5,
   "metadata": {},
   "outputs": [
    {
     "ename": "NameError",
     "evalue": "name 'file' is not defined",
     "output_type": "error",
     "traceback": [
      "\u001b[0;31m---------------------------------------------------------------------------\u001b[0m",
      "\u001b[0;31mNameError\u001b[0m                                 Traceback (most recent call last)",
      "\u001b[0;32m<ipython-input-5-2036a1f441f3>\u001b[0m in \u001b[0;36m<module>\u001b[0;34m\u001b[0m\n\u001b[0;32m----> 1\u001b[0;31m \u001b[0mim\u001b[0m \u001b[0;34m=\u001b[0m \u001b[0mImage\u001b[0m\u001b[0;34m.\u001b[0m\u001b[0mopen\u001b[0m\u001b[0;34m(\u001b[0m\u001b[0mfile\u001b[0m\u001b[0;34m)\u001b[0m\u001b[0;34m\u001b[0m\u001b[0;34m\u001b[0m\u001b[0m\n\u001b[0m",
      "\u001b[0;31mNameError\u001b[0m: name 'file' is not defined"
     ]
    }
   ],
   "source": [
    "im = Image.open(file)"
   ]
  },
  {
   "cell_type": "code",
   "execution_count": null,
   "metadata": {},
   "outputs": [],
   "source": []
  }
 ],
 "metadata": {
  "kernelspec": {
   "display_name": "Python 3",
   "language": "python",
   "name": "python3"
  },
  "language_info": {
   "codemirror_mode": {
    "name": "ipython",
    "version": 3
   },
   "file_extension": ".py",
   "mimetype": "text/x-python",
   "name": "python",
   "nbconvert_exporter": "python",
   "pygments_lexer": "ipython3",
   "version": "3.7.7"
  }
 },
 "nbformat": 4,
 "nbformat_minor": 4
}
